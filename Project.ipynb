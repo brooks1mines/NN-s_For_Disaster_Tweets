{
  "nbformat": 4,
  "nbformat_minor": 0,
  "metadata": {
    "colab": {
      "provenance": []
    },
    "kernelspec": {
      "name": "python3",
      "display_name": "Python 3"
    },
    "language_info": {
      "name": "python"
    }
  },
  "cells": [
    {
      "cell_type": "code",
      "execution_count": 14,
      "metadata": {
        "id": "QdFDzLtAkYXx"
      },
      "outputs": [],
      "source": [
        "import numpy as np \n",
        "import pandas as pd\n",
        "import sklearn\n",
        "from sklearn.model_selection import train_test_split\n",
        "from sklearn.feature_extraction.text import CountVectorizer, TfidfTransformer, HashingVectorizer\n",
        "from sklearn.metrics import classification_report, f1_score, accuracy_score\n",
        "from tensorflow.keras.preprocessing import sequence\n",
        "from tensorflow.keras.layers import Dense, Dropout\n",
        "from tensorflow.keras import Sequential"
      ]
    },
    {
      "cell_type": "code",
      "source": [
        "# Segment data \n",
        "# Need both train and test csv\n",
        "train = pd.read_csv('train.csv')\n",
        "test = pd.read_csv('test.csv')\n",
        "train_set = train['text']\n",
        "test_set = test['text']\n",
        "train_targets = train['target']"
      ],
      "metadata": {
        "id": "dCxUbDXKq8yG"
      },
      "execution_count": 5,
      "outputs": []
    },
    {
      "cell_type": "code",
      "source": [
        "# Split data randomly\n",
        "X_train, X_test, y_train, y_test = train_test_split(train_set, train_targets, random_state=0)"
      ],
      "metadata": {
        "id": "F-RfhqZkO5mF"
      },
      "execution_count": 6,
      "outputs": []
    },
    {
      "cell_type": "code",
      "source": [
        "# Visualize data\n",
        "print(f\"The training dataset contains {len(X_train)} messages.\")\n",
        "print(f\"The test dataset contains {len(X_test)} messages.\")"
      ],
      "metadata": {
        "colab": {
          "base_uri": "https://localhost:8080/"
        },
        "id": "-AKQkzuiyG3j",
        "outputId": "5ba00016-5f86-412a-83ed-0e9b9645ca67"
      },
      "execution_count": 7,
      "outputs": [
        {
          "output_type": "stream",
          "name": "stdout",
          "text": [
            "The training dataset contains 5709 messages.\n",
            "The test dataset contains 1904 messages.\n",
            "There are 2 features in the data, either a 0 or 1\n"
          ]
        }
      ]
    },
    {
      "cell_type": "code",
      "source": [
        "# Create a count vectorizer and bag of words representaitons \n",
        "counter = CountVectorizer(stop_words = 'english', ngram_range = (1,3))\n",
        "X_train_bow = counter.fit_transform(X_train).toarray()\n",
        "X_test_bow = counter.fit_transform(X_test).toarray()"
      ],
      "metadata": {
        "id": "OPHJPZ7buDkC"
      },
      "execution_count": 8,
      "outputs": []
    },
    {
      "cell_type": "code",
      "source": [
        "# Visualize features, need the input dimension for NN\n",
        "print(f'The training set has: {X_train_bow.shape[0]:5d} samples and {X_train_bow.shape[1]} features.')\n",
        "print(f'The test set has:     {X_test_bow.shape[0]:5d} samples and {X_test_bow.shape[1]} features.')"
      ],
      "metadata": {
        "colab": {
          "base_uri": "https://localhost:8080/"
        },
        "id": "tugVoUkjuGNy",
        "outputId": "993d9bf4-8d51-426c-8c22-40c0439895c4"
      },
      "execution_count": 9,
      "outputs": [
        {
          "output_type": "stream",
          "name": "stdout",
          "text": [
            "The training set has:  5709 samples and 97185 features.\n",
            "The test set has:      1904 samples and 36518 features.\n"
          ]
        }
      ]
    },
    {
      "cell_type": "code",
      "source": [
        "# Haven't spent much time adjusting parameters, this was a first guess but it worked really well\n",
        "model = Sequential()\n",
        "model.add(Dense(1000, input_dim=97185, activation='relu'))\n",
        "model.add(Dense(750, activation='relu'))\n",
        "model.add(Dropout(0.2))\n",
        "model.add(Dense(500, activation='relu'))\n",
        "model.add(Dense(250, activation='relu'))\n",
        "model.add(Dropout(0.2))\n",
        "model.add(Dense(1, activation = 'sigmoid'))"
      ],
      "metadata": {
        "colab": {
          "base_uri": "https://localhost:8080/",
          "height": 130
        },
        "id": "zLO8vIXOuezK",
        "outputId": "aa7c9f4a-0d09-4b91-95f9-d06267815c9c"
      },
      "execution_count": 18,
      "outputs": [
        {
          "output_type": "error",
          "ename": "SyntaxError",
          "evalue": "ignored",
          "traceback": [
            "\u001b[0;36m  File \u001b[0;32m\"<ipython-input-18-02a8d709ce80>\"\u001b[0;36m, line \u001b[0;32m7\u001b[0m\n\u001b[0;31m    model.add(Dropout(0.2))\u001b[0m\n\u001b[0m    ^\u001b[0m\n\u001b[0;31mSyntaxError\u001b[0m\u001b[0;31m:\u001b[0m invalid syntax\n"
          ]
        }
      ]
    },
    {
      "cell_type": "code",
      "source": [
        "# 98% Accuracy with 5 epochs\n",
        "n_epochs = 5\n",
        "model.compile(loss='binary_crossentropy', optimizer='adam', metrics=['accuracy'])\n",
        "history = model.fit(X_train_bow, y_train, batch_size=32, epochs=n_epochs)"
      ],
      "metadata": {
        "colab": {
          "base_uri": "https://localhost:8080/"
        },
        "id": "_jhLp50oupWg",
        "outputId": "a0f744c5-a06c-460e-9da3-2ee66ee60abe"
      },
      "execution_count": 16,
      "outputs": [
        {
          "output_type": "stream",
          "name": "stdout",
          "text": [
            "Epoch 1/5\n",
            "179/179 [==============================] - 67s 370ms/step - loss: 0.5254 - accuracy: 0.7611\n",
            "Epoch 2/5\n",
            "179/179 [==============================] - 72s 400ms/step - loss: 0.1131 - accuracy: 0.9643\n",
            "Epoch 3/5\n",
            "179/179 [==============================] - 72s 405ms/step - loss: 0.0415 - accuracy: 0.9825\n",
            "Epoch 4/5\n",
            "179/179 [==============================] - 68s 382ms/step - loss: 0.0269 - accuracy: 0.9867\n",
            "Epoch 5/5\n",
            "179/179 [==============================] - 80s 445ms/step - loss: 0.0205 - accuracy: 0.9895\n"
          ]
        }
      ]
    },
    {
      "cell_type": "code",
      "source": [
        "# Model using test input dim, could combine it into one model with variable input but having two models is nice for faster training on this set.\n",
        "model = Sequential()\n",
        "model.add(Dense(1000, input_dim=36518, activation='relu'))\n",
        "model.add(Dense(750, activation='relu'))\n",
        "model.add(Dropout(0.2))\n",
        "model.add(Dense(500, activation='relu'))\n",
        "model.add(Dense(250, activation='relu'))\n",
        "model.add(Dropout(0.2))\n",
        "model.add(Dense(1, activation = 'sigmoid'))"
      ],
      "metadata": {
        "id": "2xNcwlTr0t_I"
      },
      "execution_count": 19,
      "outputs": []
    },
    {
      "cell_type": "code",
      "source": [
        "# 99% Accuracy with 5 epochs\n",
        "n_epochs = 5\n",
        "model.compile(loss='binary_crossentropy', optimizer='adam', metrics=['accuracy'])\n",
        "history = model.fit(X_test_bow, y_test, batch_size=32, epochs=n_epochs)"
      ],
      "metadata": {
        "colab": {
          "base_uri": "https://localhost:8080/"
        },
        "id": "ekSCJKU-0IKW",
        "outputId": "c566c9f9-9b49-4bcc-ae0a-ebd038b12d23"
      },
      "execution_count": 20,
      "outputs": [
        {
          "output_type": "stream",
          "name": "stdout",
          "text": [
            "Epoch 1/5\n",
            "60/60 [==============================] - 10s 163ms/step - loss: 0.5700 - accuracy: 0.7054\n",
            "Epoch 2/5\n",
            "60/60 [==============================] - 11s 184ms/step - loss: 0.0735 - accuracy: 0.9816\n",
            "Epoch 3/5\n",
            "60/60 [==============================] - 12s 198ms/step - loss: 0.0177 - accuracy: 0.9932\n",
            "Epoch 4/5\n",
            "60/60 [==============================] - 15s 246ms/step - loss: 0.0057 - accuracy: 0.9968\n",
            "Epoch 5/5\n",
            "60/60 [==============================] - 11s 186ms/step - loss: 0.0089 - accuracy: 0.9958\n"
          ]
        }
      ]
    }
  ]
}